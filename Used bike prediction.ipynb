{
 "cells": [
  {
   "cell_type": "markdown",
   "id": "bf20f31b",
   "metadata": {},
   "source": [
    "# Task: Used Bike prediction\n",
    "\n"
   ]
  },
  {
   "cell_type": "markdown",
   "id": "5a4a1bc2",
   "metadata": {},
   "source": [
    "# *   Tasks: \n",
    "problems statement:\n",
    "The main problems of today is bike where pople get scam  due to buy bike without knowing the proper detail so they have to bear more losses for bike with this prediction poeple can get help to get second hand bike\n",
    "\n",
    "\n",
    "\n",
    "\n",
    "*Analysis Process*\n",
    "The analysis is divided into ten main parts:\n",
    "\n",
    "* Data Sourcing, Data Understanding\n",
    "* Data cleaning, Manipulation, Visulaization and Detecting Outliers\n",
    "* Perform EDA on Prepared Dataset (Univariate and Bivariate Analysis)\n",
    "* Model Preparation\n",
    "* Training and Testing set Data Split\n",
    "* Model Building\n",
    "* Making Predictions\n",
    "* Model Evaluation\n",
    "* Features Importance\n",
    "\n",
    "\n",
    "In this Project, we are going to predict the Price of Used Cars using various features like brand, Price, Mileage, power,kms driven,owner etc. \n",
    "\n",
    "information about data:\n",
    "\n",
    "price:\n",
    "price is our independent value\n",
    "\n",
    "kms_driven:\n",
    "how much kilometer has driven\n",
    "\n",
    "\n",
    "owner:\n",
    "biker owner based on their bike\n",
    "\n",
    "age:\n",
    "how old the bike exactly\n",
    "\n",
    "\n",
    "\n",
    "power:\n",
    "how much power does actually have\n",
    "\n",
    "\n",
    "\n"
   ]
  },
  {
   "cell_type": "markdown",
   "id": "54a28a9f",
   "metadata": {},
   "source": [
    "*Analysis Process*\n",
    "The analysis is divided into ten main parts:\n",
    "\n",
    "* Data Sourcing, Data Understanding\n",
    "* Data cleaning, Manipulation, Visulaization and Detecting Outliers\n",
    "* Perform EDA on Prepared Dataset (Univariate and Bivariate Analysis)\n",
    "* Model Preparation\n",
    "* Training and Testing set Data Split\n",
    "* Model Building\n",
    "* Making Predictions\n",
    "* Model Evaluation\n",
    "* Features Importance"
   ]
  },
  {
   "cell_type": "code",
   "execution_count": 1,
   "id": "258a6681",
   "metadata": {},
   "outputs": [],
   "source": [
    "#importing the necessary library\n",
    "import pandas as pd     \n",
    "import numpy as np\n",
    "import pandas as pd\n",
    "import matplotlib.pyplot as plt \n",
    "import seaborn as sns"
   ]
  },
  {
   "cell_type": "markdown",
   "id": "7f034a3c",
   "metadata": {},
   "source": [
    "# Importing excel data"
   ]
  },
  {
   "cell_type": "code",
   "execution_count": 2,
   "id": "b32c02e7",
   "metadata": {},
   "outputs": [
    {
     "data": {
      "text/html": [
       "<div>\n",
       "<style scoped>\n",
       "    .dataframe tbody tr th:only-of-type {\n",
       "        vertical-align: middle;\n",
       "    }\n",
       "\n",
       "    .dataframe tbody tr th {\n",
       "        vertical-align: top;\n",
       "    }\n",
       "\n",
       "    .dataframe thead th {\n",
       "        text-align: right;\n",
       "    }\n",
       "</style>\n",
       "<table border=\"1\" class=\"dataframe\">\n",
       "  <thead>\n",
       "    <tr style=\"text-align: right;\">\n",
       "      <th></th>\n",
       "      <th>bike_name</th>\n",
       "      <th>price</th>\n",
       "      <th>city</th>\n",
       "      <th>kms_driven</th>\n",
       "      <th>owner</th>\n",
       "      <th>age</th>\n",
       "      <th>power</th>\n",
       "      <th>brand</th>\n",
       "    </tr>\n",
       "  </thead>\n",
       "  <tbody>\n",
       "    <tr>\n",
       "      <th>0</th>\n",
       "      <td>TVS Star City Plus Dual Tone 110cc</td>\n",
       "      <td>35000</td>\n",
       "      <td>Ahmedabad</td>\n",
       "      <td>17654.0</td>\n",
       "      <td>First Owner</td>\n",
       "      <td>3</td>\n",
       "      <td>110.0</td>\n",
       "      <td>TVS</td>\n",
       "    </tr>\n",
       "    <tr>\n",
       "      <th>1</th>\n",
       "      <td>Royal Enfield Classic 350cc</td>\n",
       "      <td>119900</td>\n",
       "      <td>Delhi</td>\n",
       "      <td>11000.0</td>\n",
       "      <td>First Owner</td>\n",
       "      <td>4</td>\n",
       "      <td>350.0</td>\n",
       "      <td>Royal Enfield</td>\n",
       "    </tr>\n",
       "    <tr>\n",
       "      <th>2</th>\n",
       "      <td>Triumph Daytona 675R</td>\n",
       "      <td>600000</td>\n",
       "      <td>Delhi</td>\n",
       "      <td>110.0</td>\n",
       "      <td>First Owner</td>\n",
       "      <td>8</td>\n",
       "      <td>675.0</td>\n",
       "      <td>Triumph</td>\n",
       "    </tr>\n",
       "    <tr>\n",
       "      <th>3</th>\n",
       "      <td>TVS Apache RTR 180cc</td>\n",
       "      <td>65000</td>\n",
       "      <td>Bangalore</td>\n",
       "      <td>16329.0</td>\n",
       "      <td>First Owner</td>\n",
       "      <td>4</td>\n",
       "      <td>180.0</td>\n",
       "      <td>TVS</td>\n",
       "    </tr>\n",
       "    <tr>\n",
       "      <th>4</th>\n",
       "      <td>Yamaha FZ S V 2.0 150cc-Ltd. Edition</td>\n",
       "      <td>80000</td>\n",
       "      <td>Bangalore</td>\n",
       "      <td>10000.0</td>\n",
       "      <td>First Owner</td>\n",
       "      <td>3</td>\n",
       "      <td>150.0</td>\n",
       "      <td>Yamaha</td>\n",
       "    </tr>\n",
       "  </tbody>\n",
       "</table>\n",
       "</div>"
      ],
      "text/plain": [
       "                              bike_name   price       city  kms_driven  \\\n",
       "0    TVS Star City Plus Dual Tone 110cc   35000  Ahmedabad     17654.0   \n",
       "1           Royal Enfield Classic 350cc  119900      Delhi     11000.0   \n",
       "2                  Triumph Daytona 675R  600000      Delhi       110.0   \n",
       "3                  TVS Apache RTR 180cc   65000  Bangalore     16329.0   \n",
       "4  Yamaha FZ S V 2.0 150cc-Ltd. Edition   80000  Bangalore     10000.0   \n",
       "\n",
       "         owner  age  power          brand  \n",
       "0  First Owner    3  110.0            TVS  \n",
       "1  First Owner    4  350.0  Royal Enfield  \n",
       "2  First Owner    8  675.0        Triumph  \n",
       "3  First Owner    4  180.0            TVS  \n",
       "4  First Owner    3  150.0         Yamaha  "
      ]
     },
     "execution_count": 2,
     "metadata": {},
     "output_type": "execute_result"
    }
   ],
   "source": [
    "#load the data\n",
    "df = pd.read_csv('bikes.csv')\n",
    "df.head(5)"
   ]
  },
  {
   "cell_type": "code",
   "execution_count": 3,
   "id": "3a4751d0",
   "metadata": {},
   "outputs": [
    {
     "data": {
      "text/plain": [
       "0        17654.0\n",
       "1        11000.0\n",
       "2          110.0\n",
       "3        16329.0\n",
       "4        10000.0\n",
       "          ...   \n",
       "32643    22000.0\n",
       "32644        NaN\n",
       "32645    20373.0\n",
       "32646    84186.0\n",
       "32647    60857.0\n",
       "Name: kms_driven, Length: 32648, dtype: float64"
      ]
     },
     "execution_count": 3,
     "metadata": {},
     "output_type": "execute_result"
    }
   ],
   "source": [
    "df['kms_driven']"
   ]
  },
  {
   "cell_type": "markdown",
   "id": "ac6f6722",
   "metadata": {},
   "source": [
    "# Shape of the dataframe"
   ]
  },
  {
   "cell_type": "code",
   "execution_count": 4,
   "id": "76a073be",
   "metadata": {},
   "outputs": [
    {
     "data": {
      "text/plain": [
       "(32648, 8)"
      ]
     },
     "execution_count": 4,
     "metadata": {},
     "output_type": "execute_result"
    }
   ],
   "source": [
    "df.shape"
   ]
  },
  {
   "cell_type": "markdown",
   "id": "95909b4c",
   "metadata": {},
   "source": [
    "# Missing value"
   ]
  },
  {
   "cell_type": "code",
   "execution_count": 5,
   "id": "6b3d1f8b",
   "metadata": {},
   "outputs": [
    {
     "data": {
      "text/plain": [
       "bike_name     False\n",
       "price         False\n",
       "city          False\n",
       "kms_driven     True\n",
       "owner         False\n",
       "age           False\n",
       "power          True\n",
       "brand          True\n",
       "dtype: bool"
      ]
     },
     "execution_count": 5,
     "metadata": {},
     "output_type": "execute_result"
    }
   ],
   "source": [
    "df.isnull().any()  #checking the missing value"
   ]
  },
  {
   "cell_type": "code",
   "execution_count": 6,
   "id": "2406b646",
   "metadata": {},
   "outputs": [
    {
     "data": {
      "text/plain": [
       "bike_name     0\n",
       "price         0\n",
       "city          0\n",
       "kms_driven    1\n",
       "owner         0\n",
       "age           0\n",
       "power         1\n",
       "brand         1\n",
       "dtype: int64"
      ]
     },
     "execution_count": 6,
     "metadata": {},
     "output_type": "execute_result"
    }
   ],
   "source": [
    "df.isnull().sum()"
   ]
  },
  {
   "cell_type": "markdown",
   "id": "ac00d6c7",
   "metadata": {},
   "source": [
    "# Dropping the missing value\n"
   ]
  },
  {
   "cell_type": "code",
   "execution_count": 7,
   "id": "81455bac",
   "metadata": {},
   "outputs": [],
   "source": [
    "df.dropna(inplace = True) "
   ]
  },
  {
   "cell_type": "code",
   "execution_count": 8,
   "id": "05490c99",
   "metadata": {},
   "outputs": [
    {
     "data": {
      "text/plain": [
       "bike_name     0\n",
       "price         0\n",
       "city          0\n",
       "kms_driven    0\n",
       "owner         0\n",
       "age           0\n",
       "power         0\n",
       "brand         0\n",
       "dtype: int64"
      ]
     },
     "execution_count": 8,
     "metadata": {},
     "output_type": "execute_result"
    }
   ],
   "source": [
    "df.isna().sum() ## if there any missing values"
   ]
  },
  {
   "cell_type": "code",
   "execution_count": 9,
   "id": "bf393832",
   "metadata": {},
   "outputs": [
    {
     "data": {
      "text/html": [
       "<div>\n",
       "<style scoped>\n",
       "    .dataframe tbody tr th:only-of-type {\n",
       "        vertical-align: middle;\n",
       "    }\n",
       "\n",
       "    .dataframe tbody tr th {\n",
       "        vertical-align: top;\n",
       "    }\n",
       "\n",
       "    .dataframe thead th {\n",
       "        text-align: right;\n",
       "    }\n",
       "</style>\n",
       "<table border=\"1\" class=\"dataframe\">\n",
       "  <thead>\n",
       "    <tr style=\"text-align: right;\">\n",
       "      <th></th>\n",
       "      <th>bike_name</th>\n",
       "      <th>price</th>\n",
       "      <th>city</th>\n",
       "      <th>kms_driven</th>\n",
       "      <th>owner</th>\n",
       "      <th>age</th>\n",
       "      <th>power</th>\n",
       "      <th>brand</th>\n",
       "    </tr>\n",
       "  </thead>\n",
       "  <tbody>\n",
       "    <tr>\n",
       "      <th>0</th>\n",
       "      <td>False</td>\n",
       "      <td>False</td>\n",
       "      <td>False</td>\n",
       "      <td>False</td>\n",
       "      <td>False</td>\n",
       "      <td>False</td>\n",
       "      <td>False</td>\n",
       "      <td>False</td>\n",
       "    </tr>\n",
       "    <tr>\n",
       "      <th>1</th>\n",
       "      <td>False</td>\n",
       "      <td>False</td>\n",
       "      <td>False</td>\n",
       "      <td>False</td>\n",
       "      <td>False</td>\n",
       "      <td>False</td>\n",
       "      <td>False</td>\n",
       "      <td>False</td>\n",
       "    </tr>\n",
       "    <tr>\n",
       "      <th>2</th>\n",
       "      <td>False</td>\n",
       "      <td>False</td>\n",
       "      <td>False</td>\n",
       "      <td>False</td>\n",
       "      <td>False</td>\n",
       "      <td>False</td>\n",
       "      <td>False</td>\n",
       "      <td>False</td>\n",
       "    </tr>\n",
       "    <tr>\n",
       "      <th>3</th>\n",
       "      <td>False</td>\n",
       "      <td>False</td>\n",
       "      <td>False</td>\n",
       "      <td>False</td>\n",
       "      <td>False</td>\n",
       "      <td>False</td>\n",
       "      <td>False</td>\n",
       "      <td>False</td>\n",
       "    </tr>\n",
       "    <tr>\n",
       "      <th>4</th>\n",
       "      <td>False</td>\n",
       "      <td>False</td>\n",
       "      <td>False</td>\n",
       "      <td>False</td>\n",
       "      <td>False</td>\n",
       "      <td>False</td>\n",
       "      <td>False</td>\n",
       "      <td>False</td>\n",
       "    </tr>\n",
       "    <tr>\n",
       "      <th>...</th>\n",
       "      <td>...</td>\n",
       "      <td>...</td>\n",
       "      <td>...</td>\n",
       "      <td>...</td>\n",
       "      <td>...</td>\n",
       "      <td>...</td>\n",
       "      <td>...</td>\n",
       "      <td>...</td>\n",
       "    </tr>\n",
       "    <tr>\n",
       "      <th>32641</th>\n",
       "      <td>False</td>\n",
       "      <td>False</td>\n",
       "      <td>False</td>\n",
       "      <td>False</td>\n",
       "      <td>False</td>\n",
       "      <td>False</td>\n",
       "      <td>False</td>\n",
       "      <td>False</td>\n",
       "    </tr>\n",
       "    <tr>\n",
       "      <th>32642</th>\n",
       "      <td>False</td>\n",
       "      <td>False</td>\n",
       "      <td>False</td>\n",
       "      <td>False</td>\n",
       "      <td>False</td>\n",
       "      <td>False</td>\n",
       "      <td>False</td>\n",
       "      <td>False</td>\n",
       "    </tr>\n",
       "    <tr>\n",
       "      <th>32643</th>\n",
       "      <td>False</td>\n",
       "      <td>False</td>\n",
       "      <td>False</td>\n",
       "      <td>False</td>\n",
       "      <td>False</td>\n",
       "      <td>False</td>\n",
       "      <td>False</td>\n",
       "      <td>False</td>\n",
       "    </tr>\n",
       "    <tr>\n",
       "      <th>32645</th>\n",
       "      <td>False</td>\n",
       "      <td>False</td>\n",
       "      <td>False</td>\n",
       "      <td>False</td>\n",
       "      <td>False</td>\n",
       "      <td>False</td>\n",
       "      <td>False</td>\n",
       "      <td>False</td>\n",
       "    </tr>\n",
       "    <tr>\n",
       "      <th>32647</th>\n",
       "      <td>False</td>\n",
       "      <td>False</td>\n",
       "      <td>False</td>\n",
       "      <td>False</td>\n",
       "      <td>False</td>\n",
       "      <td>False</td>\n",
       "      <td>False</td>\n",
       "      <td>False</td>\n",
       "    </tr>\n",
       "  </tbody>\n",
       "</table>\n",
       "<p>32645 rows × 8 columns</p>\n",
       "</div>"
      ],
      "text/plain": [
       "       bike_name  price   city  kms_driven  owner    age  power  brand\n",
       "0          False  False  False       False  False  False  False  False\n",
       "1          False  False  False       False  False  False  False  False\n",
       "2          False  False  False       False  False  False  False  False\n",
       "3          False  False  False       False  False  False  False  False\n",
       "4          False  False  False       False  False  False  False  False\n",
       "...          ...    ...    ...         ...    ...    ...    ...    ...\n",
       "32641      False  False  False       False  False  False  False  False\n",
       "32642      False  False  False       False  False  False  False  False\n",
       "32643      False  False  False       False  False  False  False  False\n",
       "32645      False  False  False       False  False  False  False  False\n",
       "32647      False  False  False       False  False  False  False  False\n",
       "\n",
       "[32645 rows x 8 columns]"
      ]
     },
     "execution_count": 9,
     "metadata": {},
     "output_type": "execute_result"
    }
   ],
   "source": [
    "df.isnull()"
   ]
  },
  {
   "cell_type": "markdown",
   "id": "1e450d38",
   "metadata": {},
   "source": [
    "# Drop the feature that are not required to build our model"
   ]
  },
  {
   "cell_type": "code",
   "execution_count": 10,
   "id": "207ea8fd",
   "metadata": {},
   "outputs": [],
   "source": [
    "df.drop(labels='city',axis=1,inplace=True)"
   ]
  },
  {
   "cell_type": "code",
   "execution_count": 11,
   "id": "521d5322",
   "metadata": {},
   "outputs": [],
   "source": [
    "df.drop(labels='bike_name',axis=1,inplace=True)"
   ]
  },
  {
   "cell_type": "code",
   "execution_count": 12,
   "id": "95fac335",
   "metadata": {},
   "outputs": [
    {
     "data": {
      "text/html": [
       "<div>\n",
       "<style scoped>\n",
       "    .dataframe tbody tr th:only-of-type {\n",
       "        vertical-align: middle;\n",
       "    }\n",
       "\n",
       "    .dataframe tbody tr th {\n",
       "        vertical-align: top;\n",
       "    }\n",
       "\n",
       "    .dataframe thead th {\n",
       "        text-align: right;\n",
       "    }\n",
       "</style>\n",
       "<table border=\"1\" class=\"dataframe\">\n",
       "  <thead>\n",
       "    <tr style=\"text-align: right;\">\n",
       "      <th></th>\n",
       "      <th>price</th>\n",
       "      <th>kms_driven</th>\n",
       "      <th>owner</th>\n",
       "      <th>age</th>\n",
       "      <th>power</th>\n",
       "      <th>brand</th>\n",
       "    </tr>\n",
       "  </thead>\n",
       "  <tbody>\n",
       "    <tr>\n",
       "      <th>0</th>\n",
       "      <td>35000</td>\n",
       "      <td>17654.0</td>\n",
       "      <td>First Owner</td>\n",
       "      <td>3</td>\n",
       "      <td>110.0</td>\n",
       "      <td>TVS</td>\n",
       "    </tr>\n",
       "    <tr>\n",
       "      <th>1</th>\n",
       "      <td>119900</td>\n",
       "      <td>11000.0</td>\n",
       "      <td>First Owner</td>\n",
       "      <td>4</td>\n",
       "      <td>350.0</td>\n",
       "      <td>Royal Enfield</td>\n",
       "    </tr>\n",
       "    <tr>\n",
       "      <th>2</th>\n",
       "      <td>600000</td>\n",
       "      <td>110.0</td>\n",
       "      <td>First Owner</td>\n",
       "      <td>8</td>\n",
       "      <td>675.0</td>\n",
       "      <td>Triumph</td>\n",
       "    </tr>\n",
       "    <tr>\n",
       "      <th>3</th>\n",
       "      <td>65000</td>\n",
       "      <td>16329.0</td>\n",
       "      <td>First Owner</td>\n",
       "      <td>4</td>\n",
       "      <td>180.0</td>\n",
       "      <td>TVS</td>\n",
       "    </tr>\n",
       "    <tr>\n",
       "      <th>4</th>\n",
       "      <td>80000</td>\n",
       "      <td>10000.0</td>\n",
       "      <td>First Owner</td>\n",
       "      <td>3</td>\n",
       "      <td>150.0</td>\n",
       "      <td>Yamaha</td>\n",
       "    </tr>\n",
       "    <tr>\n",
       "      <th>...</th>\n",
       "      <td>...</td>\n",
       "      <td>...</td>\n",
       "      <td>...</td>\n",
       "      <td>...</td>\n",
       "      <td>...</td>\n",
       "      <td>...</td>\n",
       "    </tr>\n",
       "    <tr>\n",
       "      <th>32641</th>\n",
       "      <td>41000</td>\n",
       "      <td>20245.0</td>\n",
       "      <td>Second Owner</td>\n",
       "      <td>11</td>\n",
       "      <td>220.0</td>\n",
       "      <td>Bajaj</td>\n",
       "    </tr>\n",
       "    <tr>\n",
       "      <th>32642</th>\n",
       "      <td>15000</td>\n",
       "      <td>35000.0</td>\n",
       "      <td>Second Owner</td>\n",
       "      <td>19</td>\n",
       "      <td>100.0</td>\n",
       "      <td>Hero</td>\n",
       "    </tr>\n",
       "    <tr>\n",
       "      <th>32643</th>\n",
       "      <td>39000</td>\n",
       "      <td>22000.0</td>\n",
       "      <td>First Owner</td>\n",
       "      <td>4</td>\n",
       "      <td>100.0</td>\n",
       "      <td>Hero</td>\n",
       "    </tr>\n",
       "    <tr>\n",
       "      <th>32645</th>\n",
       "      <td>60000</td>\n",
       "      <td>20373.0</td>\n",
       "      <td>First Owner</td>\n",
       "      <td>6</td>\n",
       "      <td>220.0</td>\n",
       "      <td>Bajaj</td>\n",
       "    </tr>\n",
       "    <tr>\n",
       "      <th>32647</th>\n",
       "      <td>22000</td>\n",
       "      <td>60857.0</td>\n",
       "      <td>First Owner</td>\n",
       "      <td>13</td>\n",
       "      <td>150.0</td>\n",
       "      <td>Bajaj</td>\n",
       "    </tr>\n",
       "  </tbody>\n",
       "</table>\n",
       "<p>32645 rows × 6 columns</p>\n",
       "</div>"
      ],
      "text/plain": [
       "        price  kms_driven         owner  age  power          brand\n",
       "0       35000     17654.0   First Owner    3  110.0            TVS\n",
       "1      119900     11000.0   First Owner    4  350.0  Royal Enfield\n",
       "2      600000       110.0   First Owner    8  675.0        Triumph\n",
       "3       65000     16329.0   First Owner    4  180.0            TVS\n",
       "4       80000     10000.0   First Owner    3  150.0         Yamaha\n",
       "...       ...         ...           ...  ...    ...            ...\n",
       "32641   41000     20245.0  Second Owner   11  220.0          Bajaj\n",
       "32642   15000     35000.0  Second Owner   19  100.0           Hero\n",
       "32643   39000     22000.0   First Owner    4  100.0           Hero\n",
       "32645   60000     20373.0   First Owner    6  220.0          Bajaj\n",
       "32647   22000     60857.0   First Owner   13  150.0          Bajaj\n",
       "\n",
       "[32645 rows x 6 columns]"
      ]
     },
     "execution_count": 12,
     "metadata": {},
     "output_type": "execute_result"
    }
   ],
   "source": [
    "df"
   ]
  },
  {
   "cell_type": "code",
   "execution_count": 13,
   "id": "7fa006a8",
   "metadata": {},
   "outputs": [],
   "source": [
    "# df.max()"
   ]
  },
  {
   "cell_type": "code",
   "execution_count": 14,
   "id": "c5b05a83",
   "metadata": {},
   "outputs": [
    {
     "data": {
      "text/html": [
       "<div>\n",
       "<style scoped>\n",
       "    .dataframe tbody tr th:only-of-type {\n",
       "        vertical-align: middle;\n",
       "    }\n",
       "\n",
       "    .dataframe tbody tr th {\n",
       "        vertical-align: top;\n",
       "    }\n",
       "\n",
       "    .dataframe thead th {\n",
       "        text-align: right;\n",
       "    }\n",
       "</style>\n",
       "<table border=\"1\" class=\"dataframe\">\n",
       "  <thead>\n",
       "    <tr style=\"text-align: right;\">\n",
       "      <th></th>\n",
       "      <th>price</th>\n",
       "      <th>kms_driven</th>\n",
       "      <th>owner</th>\n",
       "      <th>age</th>\n",
       "      <th>power</th>\n",
       "      <th>brand</th>\n",
       "    </tr>\n",
       "  </thead>\n",
       "  <tbody>\n",
       "    <tr>\n",
       "      <th>0</th>\n",
       "      <td>35000</td>\n",
       "      <td>17654.0</td>\n",
       "      <td>First Owner</td>\n",
       "      <td>3</td>\n",
       "      <td>110.0</td>\n",
       "      <td>TVS</td>\n",
       "    </tr>\n",
       "    <tr>\n",
       "      <th>1</th>\n",
       "      <td>119900</td>\n",
       "      <td>11000.0</td>\n",
       "      <td>First Owner</td>\n",
       "      <td>4</td>\n",
       "      <td>350.0</td>\n",
       "      <td>Royal Enfield</td>\n",
       "    </tr>\n",
       "    <tr>\n",
       "      <th>2</th>\n",
       "      <td>600000</td>\n",
       "      <td>110.0</td>\n",
       "      <td>First Owner</td>\n",
       "      <td>8</td>\n",
       "      <td>675.0</td>\n",
       "      <td>Triumph</td>\n",
       "    </tr>\n",
       "    <tr>\n",
       "      <th>3</th>\n",
       "      <td>65000</td>\n",
       "      <td>16329.0</td>\n",
       "      <td>First Owner</td>\n",
       "      <td>4</td>\n",
       "      <td>180.0</td>\n",
       "      <td>TVS</td>\n",
       "    </tr>\n",
       "    <tr>\n",
       "      <th>4</th>\n",
       "      <td>80000</td>\n",
       "      <td>10000.0</td>\n",
       "      <td>First Owner</td>\n",
       "      <td>3</td>\n",
       "      <td>150.0</td>\n",
       "      <td>Yamaha</td>\n",
       "    </tr>\n",
       "    <tr>\n",
       "      <th>...</th>\n",
       "      <td>...</td>\n",
       "      <td>...</td>\n",
       "      <td>...</td>\n",
       "      <td>...</td>\n",
       "      <td>...</td>\n",
       "      <td>...</td>\n",
       "    </tr>\n",
       "    <tr>\n",
       "      <th>32641</th>\n",
       "      <td>41000</td>\n",
       "      <td>20245.0</td>\n",
       "      <td>Second Owner</td>\n",
       "      <td>11</td>\n",
       "      <td>220.0</td>\n",
       "      <td>Bajaj</td>\n",
       "    </tr>\n",
       "    <tr>\n",
       "      <th>32642</th>\n",
       "      <td>15000</td>\n",
       "      <td>35000.0</td>\n",
       "      <td>Second Owner</td>\n",
       "      <td>19</td>\n",
       "      <td>100.0</td>\n",
       "      <td>Hero</td>\n",
       "    </tr>\n",
       "    <tr>\n",
       "      <th>32643</th>\n",
       "      <td>39000</td>\n",
       "      <td>22000.0</td>\n",
       "      <td>First Owner</td>\n",
       "      <td>4</td>\n",
       "      <td>100.0</td>\n",
       "      <td>Hero</td>\n",
       "    </tr>\n",
       "    <tr>\n",
       "      <th>32645</th>\n",
       "      <td>60000</td>\n",
       "      <td>20373.0</td>\n",
       "      <td>First Owner</td>\n",
       "      <td>6</td>\n",
       "      <td>220.0</td>\n",
       "      <td>Bajaj</td>\n",
       "    </tr>\n",
       "    <tr>\n",
       "      <th>32647</th>\n",
       "      <td>22000</td>\n",
       "      <td>60857.0</td>\n",
       "      <td>First Owner</td>\n",
       "      <td>13</td>\n",
       "      <td>150.0</td>\n",
       "      <td>Bajaj</td>\n",
       "    </tr>\n",
       "  </tbody>\n",
       "</table>\n",
       "<p>32645 rows × 6 columns</p>\n",
       "</div>"
      ],
      "text/plain": [
       "        price  kms_driven         owner  age  power          brand\n",
       "0       35000     17654.0   First Owner    3  110.0            TVS\n",
       "1      119900     11000.0   First Owner    4  350.0  Royal Enfield\n",
       "2      600000       110.0   First Owner    8  675.0        Triumph\n",
       "3       65000     16329.0   First Owner    4  180.0            TVS\n",
       "4       80000     10000.0   First Owner    3  150.0         Yamaha\n",
       "...       ...         ...           ...  ...    ...            ...\n",
       "32641   41000     20245.0  Second Owner   11  220.0          Bajaj\n",
       "32642   15000     35000.0  Second Owner   19  100.0           Hero\n",
       "32643   39000     22000.0   First Owner    4  100.0           Hero\n",
       "32645   60000     20373.0   First Owner    6  220.0          Bajaj\n",
       "32647   22000     60857.0   First Owner   13  150.0          Bajaj\n",
       "\n",
       "[32645 rows x 6 columns]"
      ]
     },
     "execution_count": 14,
     "metadata": {},
     "output_type": "execute_result"
    }
   ],
   "source": [
    "df"
   ]
  },
  {
   "cell_type": "markdown",
   "id": "2caed0f8",
   "metadata": {},
   "source": [
    "# Data exploration\n",
    "\n",
    "The probability distribution will show us how that variable is distributed"
   ]
  },
  {
   "cell_type": "code",
   "execution_count": 15,
   "id": "5262417d",
   "metadata": {},
   "outputs": [
    {
     "name": "stderr",
     "output_type": "stream",
     "text": [
      "C:\\Users\\Dell\\anaconda3\\lib\\site-packages\\seaborn\\distributions.py:2619: FutureWarning: `distplot` is a deprecated function and will be removed in a future version. Please adapt your code to use either `displot` (a figure-level function with similar flexibility) or `histplot` (an axes-level function for histograms).\n",
      "  warnings.warn(msg, FutureWarning)\n"
     ]
    },
    {
     "data": {
      "text/plain": [
       "Text(0.5, 1.0, 'bike Price Distribution Plot')"
      ]
     },
     "execution_count": 15,
     "metadata": {},
     "output_type": "execute_result"
    },
    {
     "data": {
      "image/png": "[encoded data removed]",
      "text/plain": [
       "<Figure size 792x360 with 1 Axes>"
      ]
     },
     "metadata": {
      "needs_background": "light"
     },
     "output_type": "display_data"
    }
   ],
   "source": [
    "#finding the anamolies ,outliers\n",
    "plt.figure(figsize=[11,5])\n",
    "sns.distplot(df['price'])\n",
    "plt.title('bike Price Distribution Plot') #so there is no outliers in the price"
   ]
  },
  {
   "cell_type": "code",
   "execution_count": 16,
   "id": "b48a8309",
   "metadata": {},
   "outputs": [
    {
     "name": "stderr",
     "output_type": "stream",
     "text": [
      "C:\\Users\\Dell\\anaconda3\\lib\\site-packages\\seaborn\\distributions.py:2619: FutureWarning: `distplot` is a deprecated function and will be removed in a future version. Please adapt your code to use either `displot` (a figure-level function with similar flexibility) or `histplot` (an axes-level function for histograms).\n",
      "  warnings.warn(msg, FutureWarning)\n"
     ]
    },
    {
     "data": {
      "text/plain": [
       "Text(0.5, 1.0, 'bike kms_driven Distribution Plot')"
      ]
     },
     "execution_count": 16,
     "metadata": {},
     "output_type": "execute_result"
    },
    {
     "data": {
      "image/png": "[encoded data removed]",
      "text/plain": [
       "<Figure size 792x360 with 1 Axes>"
      ]
     },
     "metadata": {
      "needs_background": "light"
     },
     "output_type": "display_data"
    }
   ],
   "source": [
    "#model_year distribution plot\n",
    "plt.figure(figsize=[11,5])\n",
    "sns.distplot(df['kms_driven'])\n",
    "plt.title('bike kms_driven Distribution Plot') "
   ]
  },
  {
   "cell_type": "code",
   "execution_count": 17,
   "id": "bc5263db",
   "metadata": {},
   "outputs": [
    {
     "name": "stderr",
     "output_type": "stream",
     "text": [
      "C:\\Users\\Dell\\anaconda3\\lib\\site-packages\\seaborn\\distributions.py:2619: FutureWarning: `distplot` is a deprecated function and will be removed in a future version. Please adapt your code to use either `displot` (a figure-level function with similar flexibility) or `histplot` (an axes-level function for histograms).\n",
      "  warnings.warn(msg, FutureWarning)\n"
     ]
    },
    {
     "data": {
      "text/plain": [
       "Text(0.5, 1.0, 'bike power Distribution Plot')"
      ]
     },
     "execution_count": 17,
     "metadata": {},
     "output_type": "execute_result"
    },
    {
     "data": {
      "image/png": "[encoded data removed]",
      "text/plain": [
       "<Figure size 792x360 with 1 Axes>"
      ]
     },
     "metadata": {
      "needs_background": "light"
     },
     "output_type": "display_data"
    }
   ],
   "source": [
    "#model_year distribution plot\n",
    "plt.figure(figsize=[11,5])\n",
    "sns.distplot(df['power'])\n",
    "plt.title('bike power Distribution Plot') "
   ]
  },
  {
   "cell_type": "code",
   "execution_count": 18,
   "id": "9fd56556",
   "metadata": {},
   "outputs": [
    {
     "name": "stderr",
     "output_type": "stream",
     "text": [
      "C:\\Users\\Dell\\anaconda3\\lib\\site-packages\\seaborn\\distributions.py:2619: FutureWarning: `distplot` is a deprecated function and will be removed in a future version. Please adapt your code to use either `displot` (a figure-level function with similar flexibility) or `histplot` (an axes-level function for histograms).\n",
      "  warnings.warn(msg, FutureWarning)\n"
     ]
    },
    {
     "data": {
      "text/plain": [
       "Text(0.5, 1.0, 'bike age Distribution Plot')"
      ]
     },
     "execution_count": 18,
     "metadata": {},
     "output_type": "execute_result"
    },
    {
     "data": {
      "image/png": "[encoded data removed]",
      "text/plain": [
       "<Figure size 792x360 with 1 Axes>"
      ]
     },
     "metadata": {
      "needs_background": "light"
     },
     "output_type": "display_data"
    }
   ],
   "source": [
    "#model_year distribution plot\n",
    "plt.figure(figsize=[11,5])\n",
    "sns.distplot(df['age'])\n",
    "plt.title('bike age Distribution Plot') "
   ]
  },
  {
   "cell_type": "markdown",
   "id": "2d0cddb4",
   "metadata": {},
   "source": [
    "Now its clear that there is not more outliers presents in ages, power, kms_Driven and prices"
   ]
  },
  {
   "cell_type": "markdown",
   "id": "6ea6339e",
   "metadata": {},
   "source": [
    "# Data visulization\n",
    "\n",
    "Data Exploration & Visualization"
   ]
  },
  {
   "cell_type": "raw",
   "id": "01522357",
   "metadata": {},
   "source": [
    "df.head()"
   ]
  },
  {
   "cell_type": "code",
   "execution_count": 22,
   "id": "39034f25",
   "metadata": {},
   "outputs": [
    {
     "name": "stderr",
     "output_type": "stream",
     "text": [
      "C:\\Users\\Dell\\anaconda3\\lib\\site-packages\\seaborn\\_decorators.py:36: FutureWarning: Pass the following variables as keyword args: x, y. From version 0.12, the only valid positional argument will be `data`, and passing other arguments without an explicit keyword will result in an error or misinterpretation.\n",
      "  warnings.warn(\n"
     ]
    },
    {
     "data": {
      "text/plain": [
       "Text(0.5, 1.0, 'owner Vs knm_Driven')"
      ]
     },
     "execution_count": 22,
     "metadata": {},
     "output_type": "execute_result"
    },
    {
     "data": {
      "image/png": "[encoded data removed]",
      "text/plain": [
       "<Figure size 1440x720 with 1 Axes>"
      ]
     },
     "metadata": {
      "needs_background": "light"
     },
     "output_type": "display_data"
    }
   ],
   "source": [
    "# Lets see the visulization of oowner based on bike price\n",
    "plt.figure(figsize=[20,10])\n",
    "plt.subplot(1,3,1)\n",
    "sns.barplot(df['owner'], df['kms_driven'])\n",
    "plt.title('owner Vs knm_Driven')"
   ]
  },
  {
   "cell_type": "code",
   "execution_count": 23,
   "id": "2a342a7e",
   "metadata": {},
   "outputs": [
    {
     "name": "stderr",
     "output_type": "stream",
     "text": [
      "C:\\Users\\Dell\\anaconda3\\lib\\site-packages\\seaborn\\_decorators.py:36: FutureWarning: Pass the following variables as keyword args: x, y. From version 0.12, the only valid positional argument will be `data`, and passing other arguments without an explicit keyword will result in an error or misinterpretation.\n",
      "  warnings.warn(\n"
     ]
    },
    {
     "data": {
      "text/plain": [
       "Text(0.5, 1.0, 'age Vs price')"
      ]
     },
     "execution_count": 23,
     "metadata": {},
     "output_type": "execute_result"
    },
    {
     "data": {
      "image/png": "[encoded data removed]",
      "text/plain": [
       "<Figure size 2088x720 with 1 Axes>"
      ]
     },
     "metadata": {
      "needs_background": "light"
     },
     "output_type": "display_data"
    }
   ],
   "source": [
    "#bike on the basis of age and prices\n",
    "plt.figure(figsize=[29,10])\n",
    "plt.subplot(1,3,1)\n",
    "sns.barplot(df['age'], df['price'])\n",
    "plt.title('age Vs price')"
   ]
  },
  {
   "cell_type": "code",
   "execution_count": 24,
   "id": "43566a2b",
   "metadata": {},
   "outputs": [
    {
     "data": {
      "text/plain": [
       "<AxesSubplot:xlabel='brand', ylabel='price'>"
      ]
     },
     "execution_count": 24,
     "metadata": {},
     "output_type": "execute_result"
    },
    {
     "data": {
      "image/png": "[encoded data removed]",
      "text/plain": [
       "<Figure size 1440x504 with 1 Axes>"
      ]
     },
     "metadata": {
      "needs_background": "light"
     },
     "output_type": "display_data"
    }
   ],
   "source": [
    "plt.subplots(figsize=(20,7))  #brand anusar price\n",
    "sns.boxplot(x='brand',y='price',data=df)"
   ]
  },
  {
   "cell_type": "code",
   "execution_count": 25,
   "id": "50c61a5f",
   "metadata": {},
   "outputs": [
    {
     "data": {
      "text/html": [
       "<div>\n",
       "<style scoped>\n",
       "    .dataframe tbody tr th:only-of-type {\n",
       "        vertical-align: middle;\n",
       "    }\n",
       "\n",
       "    .dataframe tbody tr th {\n",
       "        vertical-align: top;\n",
       "    }\n",
       "\n",
       "    .dataframe thead th {\n",
       "        text-align: right;\n",
       "    }\n",
       "</style>\n",
       "<table border=\"1\" class=\"dataframe\">\n",
       "  <thead>\n",
       "    <tr style=\"text-align: right;\">\n",
       "      <th></th>\n",
       "      <th>price</th>\n",
       "      <th>kms_driven</th>\n",
       "      <th>owner</th>\n",
       "      <th>age</th>\n",
       "      <th>power</th>\n",
       "      <th>brand</th>\n",
       "    </tr>\n",
       "  </thead>\n",
       "  <tbody>\n",
       "    <tr>\n",
       "      <th>0</th>\n",
       "      <td>35000</td>\n",
       "      <td>17654.0</td>\n",
       "      <td>First Owner</td>\n",
       "      <td>3</td>\n",
       "      <td>110.0</td>\n",
       "      <td>TVS</td>\n",
       "    </tr>\n",
       "    <tr>\n",
       "      <th>1</th>\n",
       "      <td>119900</td>\n",
       "      <td>11000.0</td>\n",
       "      <td>First Owner</td>\n",
       "      <td>4</td>\n",
       "      <td>350.0</td>\n",
       "      <td>Royal Enfield</td>\n",
       "    </tr>\n",
       "    <tr>\n",
       "      <th>2</th>\n",
       "      <td>600000</td>\n",
       "      <td>110.0</td>\n",
       "      <td>First Owner</td>\n",
       "      <td>8</td>\n",
       "      <td>675.0</td>\n",
       "      <td>Triumph</td>\n",
       "    </tr>\n",
       "    <tr>\n",
       "      <th>3</th>\n",
       "      <td>65000</td>\n",
       "      <td>16329.0</td>\n",
       "      <td>First Owner</td>\n",
       "      <td>4</td>\n",
       "      <td>180.0</td>\n",
       "      <td>TVS</td>\n",
       "    </tr>\n",
       "    <tr>\n",
       "      <th>4</th>\n",
       "      <td>80000</td>\n",
       "      <td>10000.0</td>\n",
       "      <td>First Owner</td>\n",
       "      <td>3</td>\n",
       "      <td>150.0</td>\n",
       "      <td>Yamaha</td>\n",
       "    </tr>\n",
       "    <tr>\n",
       "      <th>...</th>\n",
       "      <td>...</td>\n",
       "      <td>...</td>\n",
       "      <td>...</td>\n",
       "      <td>...</td>\n",
       "      <td>...</td>\n",
       "      <td>...</td>\n",
       "    </tr>\n",
       "    <tr>\n",
       "      <th>32641</th>\n",
       "      <td>41000</td>\n",
       "      <td>20245.0</td>\n",
       "      <td>Second Owner</td>\n",
       "      <td>11</td>\n",
       "      <td>220.0</td>\n",
       "      <td>Bajaj</td>\n",
       "    </tr>\n",
       "    <tr>\n",
       "      <th>32642</th>\n",
       "      <td>15000</td>\n",
       "      <td>35000.0</td>\n",
       "      <td>Second Owner</td>\n",
       "      <td>19</td>\n",
       "      <td>100.0</td>\n",
       "      <td>Hero</td>\n",
       "    </tr>\n",
       "    <tr>\n",
       "      <th>32643</th>\n",
       "      <td>39000</td>\n",
       "      <td>22000.0</td>\n",
       "      <td>First Owner</td>\n",
       "      <td>4</td>\n",
       "      <td>100.0</td>\n",
       "      <td>Hero</td>\n",
       "    </tr>\n",
       "    <tr>\n",
       "      <th>32645</th>\n",
       "      <td>60000</td>\n",
       "      <td>20373.0</td>\n",
       "      <td>First Owner</td>\n",
       "      <td>6</td>\n",
       "      <td>220.0</td>\n",
       "      <td>Bajaj</td>\n",
       "    </tr>\n",
       "    <tr>\n",
       "      <th>32647</th>\n",
       "      <td>22000</td>\n",
       "      <td>60857.0</td>\n",
       "      <td>First Owner</td>\n",
       "      <td>13</td>\n",
       "      <td>150.0</td>\n",
       "      <td>Bajaj</td>\n",
       "    </tr>\n",
       "  </tbody>\n",
       "</table>\n",
       "<p>32645 rows × 6 columns</p>\n",
       "</div>"
      ],
      "text/plain": [
       "        price  kms_driven         owner  age  power          brand\n",
       "0       35000     17654.0   First Owner    3  110.0            TVS\n",
       "1      119900     11000.0   First Owner    4  350.0  Royal Enfield\n",
       "2      600000       110.0   First Owner    8  675.0        Triumph\n",
       "3       65000     16329.0   First Owner    4  180.0            TVS\n",
       "4       80000     10000.0   First Owner    3  150.0         Yamaha\n",
       "...       ...         ...           ...  ...    ...            ...\n",
       "32641   41000     20245.0  Second Owner   11  220.0          Bajaj\n",
       "32642   15000     35000.0  Second Owner   19  100.0           Hero\n",
       "32643   39000     22000.0   First Owner    4  100.0           Hero\n",
       "32645   60000     20373.0   First Owner    6  220.0          Bajaj\n",
       "32647   22000     60857.0   First Owner   13  150.0          Bajaj\n",
       "\n",
       "[32645 rows x 6 columns]"
      ]
     },
     "execution_count": 25,
     "metadata": {},
     "output_type": "execute_result"
    }
   ],
   "source": [
    "df"
   ]
  },
  {
   "cell_type": "markdown",
   "id": "6324d330",
   "metadata": {},
   "source": [
    "# Handle categorical value"
   ]
  },
  {
   "cell_type": "code",
   "execution_count": 26,
   "id": "8f97bebb",
   "metadata": {},
   "outputs": [
    {
     "name": "stdout",
     "output_type": "stream",
     "text": [
      "['TVS' 'Royal Enfield' 'Triumph' 'Yamaha' 'Honda' 'Hero' 'Bajaj' 'Suzuki'\n",
      " 'Benelli' 'KTM' 'Mahindra' 'Kawasaki' 'Ducati' 'Hyosung'\n",
      " 'Harley-Davidson' 'Jawa' 'BMW' 'Indian' 'Rajdoot' 'LML' 'Yezdi' 'MV'\n",
      " 'Ideal']\n",
      "['First Owner' 'Second Owner' 'Third Owner' 'Fourth Owner Or More']\n"
     ]
    }
   ],
   "source": [
    "print(df['brand'].unique())\n",
    "print(df['owner'].unique())\n"
   ]
  },
  {
   "cell_type": "code",
   "execution_count": 27,
   "id": "221bd6a2",
   "metadata": {},
   "outputs": [],
   "source": [
    "df = df.drop(labels='brand', axis=1)"
   ]
  },
  {
   "cell_type": "code",
   "execution_count": 28,
   "id": "fe297279",
   "metadata": {},
   "outputs": [
    {
     "data": {
      "text/html": [
       "<div>\n",
       "<style scoped>\n",
       "    .dataframe tbody tr th:only-of-type {\n",
       "        vertical-align: middle;\n",
       "    }\n",
       "\n",
       "    .dataframe tbody tr th {\n",
       "        vertical-align: top;\n",
       "    }\n",
       "\n",
       "    .dataframe thead th {\n",
       "        text-align: right;\n",
       "    }\n",
       "</style>\n",
       "<table border=\"1\" class=\"dataframe\">\n",
       "  <thead>\n",
       "    <tr style=\"text-align: right;\">\n",
       "      <th></th>\n",
       "      <th>price</th>\n",
       "      <th>kms_driven</th>\n",
       "      <th>age</th>\n",
       "      <th>power</th>\n",
       "      <th>owner_Fourth Owner Or More</th>\n",
       "      <th>owner_Second Owner</th>\n",
       "      <th>owner_Third Owner</th>\n",
       "    </tr>\n",
       "  </thead>\n",
       "  <tbody>\n",
       "    <tr>\n",
       "      <th>0</th>\n",
       "      <td>35000</td>\n",
       "      <td>17654.0</td>\n",
       "      <td>3</td>\n",
       "      <td>110.0</td>\n",
       "      <td>0</td>\n",
       "      <td>0</td>\n",
       "      <td>0</td>\n",
       "    </tr>\n",
       "    <tr>\n",
       "      <th>1</th>\n",
       "      <td>119900</td>\n",
       "      <td>11000.0</td>\n",
       "      <td>4</td>\n",
       "      <td>350.0</td>\n",
       "      <td>0</td>\n",
       "      <td>0</td>\n",
       "      <td>0</td>\n",
       "    </tr>\n",
       "    <tr>\n",
       "      <th>2</th>\n",
       "      <td>600000</td>\n",
       "      <td>110.0</td>\n",
       "      <td>8</td>\n",
       "      <td>675.0</td>\n",
       "      <td>0</td>\n",
       "      <td>0</td>\n",
       "      <td>0</td>\n",
       "    </tr>\n",
       "    <tr>\n",
       "      <th>3</th>\n",
       "      <td>65000</td>\n",
       "      <td>16329.0</td>\n",
       "      <td>4</td>\n",
       "      <td>180.0</td>\n",
       "      <td>0</td>\n",
       "      <td>0</td>\n",
       "      <td>0</td>\n",
       "    </tr>\n",
       "    <tr>\n",
       "      <th>4</th>\n",
       "      <td>80000</td>\n",
       "      <td>10000.0</td>\n",
       "      <td>3</td>\n",
       "      <td>150.0</td>\n",
       "      <td>0</td>\n",
       "      <td>0</td>\n",
       "      <td>0</td>\n",
       "    </tr>\n",
       "  </tbody>\n",
       "</table>\n",
       "</div>"
      ],
      "text/plain": [
       "    price  kms_driven  age  power  owner_Fourth Owner Or More  \\\n",
       "0   35000     17654.0    3  110.0                           0   \n",
       "1  119900     11000.0    4  350.0                           0   \n",
       "2  600000       110.0    8  675.0                           0   \n",
       "3   65000     16329.0    4  180.0                           0   \n",
       "4   80000     10000.0    3  150.0                           0   \n",
       "\n",
       "   owner_Second Owner  owner_Third Owner  \n",
       "0                   0                  0  \n",
       "1                   0                  0  \n",
       "2                   0                  0  \n",
       "3                   0                  0  \n",
       "4                   0                  0  "
      ]
     },
     "execution_count": 28,
     "metadata": {},
     "output_type": "execute_result"
    }
   ],
   "source": [
    "clean_data = pd.get_dummies(df,drop_first=True)\n",
    "clean_data.head()"
   ]
  },
  {
   "cell_type": "markdown",
   "id": "314bc9a6",
   "metadata": {},
   "source": [
    "# Model deveopment "
   ]
  },
  {
   "cell_type": "markdown",
   "id": "9c78d5a1",
   "metadata": {},
   "source": [
    "Declaring dependent and independent variables"
   ]
  },
  {
   "cell_type": "code",
   "execution_count": 29,
   "id": "1bcd91f4",
   "metadata": {},
   "outputs": [],
   "source": [
    "X = clean_data.drop('price',axis=1)\n",
    "y = clean_data['price']"
   ]
  },
  {
   "cell_type": "code",
   "execution_count": null,
   "id": "dab8cba9",
   "metadata": {},
   "outputs": [],
   "source": []
  },
  {
   "cell_type": "markdown",
   "id": "c2541166",
   "metadata": {},
   "source": [
    "# Traning and Testing data"
   ]
  },
  {
   "cell_type": "code",
   "execution_count": 30,
   "id": "019cb0bf",
   "metadata": {},
   "outputs": [],
   "source": [
    "from sklearn.model_selection import train_test_split\n",
    "from sklearn.linear_model import LinearRegression\n",
    "from sklearn.metrics import mean_squared_error\n",
    "from sklearn.metrics import r2_score\n",
    "X_train, X_test, y_train, y_test = train_test_split(X, y,test_size=0.2, random_state=0)"
   ]
  },
  {
   "cell_type": "markdown",
   "id": "d1171201",
   "metadata": {},
   "source": [
    "# Linear regression model"
   ]
  },
  {
   "cell_type": "code",
   "execution_count": 31,
   "id": "a1653370",
   "metadata": {},
   "outputs": [],
   "source": [
    "# Model Building\n",
    "\n",
    "lr = LinearRegression()\n"
   ]
  },
  {
   "cell_type": "code",
   "execution_count": 32,
   "id": "9347a61f",
   "metadata": {},
   "outputs": [
    {
     "data": {
      "text/plain": [
       "LinearRegression()"
      ]
     },
     "execution_count": 32,
     "metadata": {},
     "output_type": "execute_result"
    }
   ],
   "source": [
    "lr.fit(X_train,y_train)"
   ]
  },
  {
   "cell_type": "markdown",
   "id": "349ee2af",
   "metadata": {},
   "source": [
    "# Accuracy of model"
   ]
  },
  {
   "cell_type": "code",
   "execution_count": 33,
   "id": "592d5333",
   "metadata": {},
   "outputs": [],
   "source": [
    "y_pred = lr.predict(X_test)"
   ]
  },
  {
   "cell_type": "code",
   "execution_count": 34,
   "id": "5e14f0d1",
   "metadata": {},
   "outputs": [
    {
     "name": "stdout",
     "output_type": "stream",
     "text": [
      "R_squared : 0.7537996951298603\n",
      "RMSE : 46205.60904518063\n"
     ]
    }
   ],
   "source": [
    "r_squared = r2_score(y_test,y_pred)\n",
    "rmse = np.sqrt(mean_squared_error(y_test,y_pred))\n",
    "print(\"R_squared :\",r_squared)\n",
    "print(\"RMSE :\",rmse)"
   ]
  },
  {
   "cell_type": "code",
   "execution_count": 35,
   "id": "e4cafebc",
   "metadata": {},
   "outputs": [
    {
     "data": {
      "text/plain": [
       "0.7537996951298603"
      ]
     },
     "execution_count": 35,
     "metadata": {},
     "output_type": "execute_result"
    }
   ],
   "source": [
    "lr.score(X_test,y_test)"
   ]
  },
  {
   "cell_type": "markdown",
   "id": "bf107be4",
   "metadata": {},
   "source": [
    "# Random Forest Regressor Model"
   ]
  },
  {
   "cell_type": "code",
   "execution_count": 36,
   "id": "420d027c",
   "metadata": {},
   "outputs": [],
   "source": [
    "from sklearn.ensemble import RandomForestRegressor\n",
    "rf = RandomForestRegressor()"
   ]
  },
  {
   "cell_type": "code",
   "execution_count": 37,
   "id": "418053ec",
   "metadata": {},
   "outputs": [
    {
     "data": {
      "text/plain": [
       "RandomForestRegressor()"
      ]
     },
     "execution_count": 37,
     "metadata": {},
     "output_type": "execute_result"
    }
   ],
   "source": [
    "# Training Model\n",
    "rf.fit(X_train,y_train)"
   ]
  },
  {
   "cell_type": "code",
   "execution_count": 38,
   "id": "12a92744",
   "metadata": {},
   "outputs": [
    {
     "data": {
      "text/plain": [
       "0.9435221556607067"
      ]
     },
     "execution_count": 38,
     "metadata": {},
     "output_type": "execute_result"
    }
   ],
   "source": [
    "rf.score(X_test,y_test)"
   ]
  },
  {
   "cell_type": "code",
   "execution_count": 39,
   "id": "25027067",
   "metadata": {},
   "outputs": [],
   "source": [
    "# Model Summary\n",
    "y_pred_rf = rf.predict(X_test)\n"
   ]
  },
  {
   "cell_type": "markdown",
   "id": "bac7d058",
   "metadata": {},
   "source": [
    "# Accuracy of model"
   ]
  },
  {
   "cell_type": "code",
   "execution_count": 40,
   "id": "8e5ff924",
   "metadata": {},
   "outputs": [
    {
     "name": "stdout",
     "output_type": "stream",
     "text": [
      "R_squared : 0.7537996951298603\n",
      "RMSE : 22130.41010286885\n"
     ]
    }
   ],
   "source": [
    "r_squared = r2_score(y_test,y_pred)\n",
    "rmse = np.sqrt(mean_squared_error(y_test,y_pred_rf))\n",
    "print(\"R_squared :\",r_squared)\n",
    "print(\"RMSE :\",rmse)"
   ]
  },
  {
   "cell_type": "code",
   "execution_count": null,
   "id": "8e7c1d52",
   "metadata": {},
   "outputs": [],
   "source": []
  },
  {
   "cell_type": "markdown",
   "id": "23cbd80c",
   "metadata": {},
   "source": [
    "# Hyperparameter optimization using RandomizedSearchCV"
   ]
  },
  {
   "cell_type": "code",
   "execution_count": 41,
   "id": "1f0072bb",
   "metadata": {},
   "outputs": [],
   "source": [
    "from sklearn.model_selection import RandomizedSearchCV"
   ]
  },
  {
   "cell_type": "code",
   "execution_count": 42,
   "id": "d1fd5da4",
   "metadata": {},
   "outputs": [],
   "source": [
    " #Randomized Search CV\n",
    "\n",
    "# Number of trees in random forest\n",
    "n_estimators = [int(x) for x in np.linspace(start = 10, stop = 200, num = 7)]\n",
    "# Number of features to consider at every split\n",
    "max_features = ['auto', 'sqrt']\n",
    "# Maximum number of levels in tree\n",
    "max_depth =  list(np.linspace(5, 1200, 10, dtype = int)) + [None]\n",
    "\n",
    "# Minimum number of samples required to split a node\n",
    "min_samples_split = [2, 5, 10, 15, 100]\n",
    "# Minimum number of samples required at each leaf node\n",
    "min_samples_leaf = [1, 2, 5, 10]"
   ]
  },
  {
   "cell_type": "code",
   "execution_count": 43,
   "id": "da172cf9",
   "metadata": {},
   "outputs": [
    {
     "name": "stdout",
     "output_type": "stream",
     "text": [
      "{'n_estimators': [10, 41, 73, 105, 136, 168, 200], 'max_features': ['auto', 'sqrt'], 'max_depth': [5, 137, 270, 403, 536, 668, 801, 934, 1067, 1200, None], 'min_samples_split': [2, 5, 10, 15, 100], 'min_samples_leaf': [1, 2, 5, 10]}\n"
     ]
    }
   ],
   "source": [
    "# Create the random grid\n",
    "random_grid = {'n_estimators': n_estimators,\n",
    "               'max_features': max_features,\n",
    "               'max_depth': max_depth,\n",
    "               'min_samples_split': min_samples_split,\n",
    "               'min_samples_leaf': min_samples_leaf}\n",
    "\n",
    "print(random_grid)"
   ]
  },
  {
   "cell_type": "code",
   "execution_count": 44,
   "id": "a995b6c3",
   "metadata": {
    "scrolled": true
   },
   "outputs": [],
   "source": [
    "rf = RandomForestRegressor()"
   ]
  },
  {
   "cell_type": "code",
   "execution_count": 45,
   "id": "5fc2ff23",
   "metadata": {},
   "outputs": [],
   "source": [
    "rf_random = RandomizedSearchCV(estimator = rf, param_distributions = random_grid,scoring='neg_mean_squared_error', n_iter = 10, cv = 5, verbose=2, random_state=42, n_jobs = 1)\n"
   ]
  },
  {
   "cell_type": "code",
   "execution_count": 46,
   "id": "2e91207f",
   "metadata": {},
   "outputs": [
    {
     "name": "stdout",
     "output_type": "stream",
     "text": [
      "Fitting 5 folds for each of 10 candidates, totalling 50 fits\n",
      "[CV] END max_depth=403, max_features=auto, min_samples_leaf=1, min_samples_split=10, n_estimators=200; total time=   2.4s\n",
      "[CV] END max_depth=403, max_features=auto, min_samples_leaf=1, min_samples_split=10, n_estimators=200; total time=   2.4s\n",
      "[CV] END max_depth=403, max_features=auto, min_samples_leaf=1, min_samples_split=10, n_estimators=200; total time=   2.4s\n",
      "[CV] END max_depth=403, max_features=auto, min_samples_leaf=1, min_samples_split=10, n_estimators=200; total time=   2.4s\n",
      "[CV] END max_depth=403, max_features=auto, min_samples_leaf=1, min_samples_split=10, n_estimators=200; total time=   2.4s\n",
      "[CV] END max_depth=536, max_features=sqrt, min_samples_leaf=1, min_samples_split=100, n_estimators=200; total time=   1.2s\n",
      "[CV] END max_depth=536, max_features=sqrt, min_samples_leaf=1, min_samples_split=100, n_estimators=200; total time=   1.2s\n",
      "[CV] END max_depth=536, max_features=sqrt, min_samples_leaf=1, min_samples_split=100, n_estimators=200; total time=   1.2s\n",
      "[CV] END max_depth=536, max_features=sqrt, min_samples_leaf=1, min_samples_split=100, n_estimators=200; total time=   1.2s\n",
      "[CV] END max_depth=536, max_features=sqrt, min_samples_leaf=1, min_samples_split=100, n_estimators=200; total time=   1.2s\n",
      "[CV] END max_depth=536, max_features=auto, min_samples_leaf=1, min_samples_split=5, n_estimators=105; total time=   1.3s\n",
      "[CV] END max_depth=536, max_features=auto, min_samples_leaf=1, min_samples_split=5, n_estimators=105; total time=   1.3s\n",
      "[CV] END max_depth=536, max_features=auto, min_samples_leaf=1, min_samples_split=5, n_estimators=105; total time=   1.3s\n",
      "[CV] END max_depth=536, max_features=auto, min_samples_leaf=1, min_samples_split=5, n_estimators=105; total time=   1.5s\n",
      "[CV] END max_depth=536, max_features=auto, min_samples_leaf=1, min_samples_split=5, n_estimators=105; total time=   1.4s\n",
      "[CV] END max_depth=403, max_features=sqrt, min_samples_leaf=10, min_samples_split=5, n_estimators=105; total time=   0.5s\n",
      "[CV] END max_depth=403, max_features=sqrt, min_samples_leaf=10, min_samples_split=5, n_estimators=105; total time=   0.4s\n",
      "[CV] END max_depth=403, max_features=sqrt, min_samples_leaf=10, min_samples_split=5, n_estimators=105; total time=   0.5s\n",
      "[CV] END max_depth=403, max_features=sqrt, min_samples_leaf=10, min_samples_split=5, n_estimators=105; total time=   0.4s\n",
      "[CV] END max_depth=403, max_features=sqrt, min_samples_leaf=10, min_samples_split=5, n_estimators=105; total time=   0.4s\n",
      "[CV] END max_depth=668, max_features=sqrt, min_samples_leaf=5, min_samples_split=100, n_estimators=10; total time=   0.0s\n",
      "[CV] END max_depth=668, max_features=sqrt, min_samples_leaf=5, min_samples_split=100, n_estimators=10; total time=   0.0s\n",
      "[CV] END max_depth=668, max_features=sqrt, min_samples_leaf=5, min_samples_split=100, n_estimators=10; total time=   0.0s\n",
      "[CV] END max_depth=668, max_features=sqrt, min_samples_leaf=5, min_samples_split=100, n_estimators=10; total time=   0.0s\n",
      "[CV] END max_depth=668, max_features=sqrt, min_samples_leaf=5, min_samples_split=100, n_estimators=10; total time=   0.0s\n",
      "[CV] END max_depth=934, max_features=sqrt, min_samples_leaf=2, min_samples_split=100, n_estimators=200; total time=   1.1s\n",
      "[CV] END max_depth=934, max_features=sqrt, min_samples_leaf=2, min_samples_split=100, n_estimators=200; total time=   1.1s\n",
      "[CV] END max_depth=934, max_features=sqrt, min_samples_leaf=2, min_samples_split=100, n_estimators=200; total time=   1.1s\n",
      "[CV] END max_depth=934, max_features=sqrt, min_samples_leaf=2, min_samples_split=100, n_estimators=200; total time=   1.0s\n",
      "[CV] END max_depth=934, max_features=sqrt, min_samples_leaf=2, min_samples_split=100, n_estimators=200; total time=   1.1s\n",
      "[CV] END max_depth=137, max_features=sqrt, min_samples_leaf=2, min_samples_split=5, n_estimators=136; total time=   0.8s\n",
      "[CV] END max_depth=137, max_features=sqrt, min_samples_leaf=2, min_samples_split=5, n_estimators=136; total time=   0.8s\n",
      "[CV] END max_depth=137, max_features=sqrt, min_samples_leaf=2, min_samples_split=5, n_estimators=136; total time=   0.8s\n",
      "[CV] END max_depth=137, max_features=sqrt, min_samples_leaf=2, min_samples_split=5, n_estimators=136; total time=   0.8s\n",
      "[CV] END max_depth=137, max_features=sqrt, min_samples_leaf=2, min_samples_split=5, n_estimators=136; total time=   0.8s\n",
      "[CV] END max_depth=536, max_features=auto, min_samples_leaf=10, min_samples_split=5, n_estimators=200; total time=   2.0s\n",
      "[CV] END max_depth=536, max_features=auto, min_samples_leaf=10, min_samples_split=5, n_estimators=200; total time=   2.0s\n",
      "[CV] END max_depth=536, max_features=auto, min_samples_leaf=10, min_samples_split=5, n_estimators=200; total time=   2.0s\n",
      "[CV] END max_depth=536, max_features=auto, min_samples_leaf=10, min_samples_split=5, n_estimators=200; total time=   2.0s\n",
      "[CV] END max_depth=536, max_features=auto, min_samples_leaf=10, min_samples_split=5, n_estimators=200; total time=   2.0s\n",
      "[CV] END max_depth=137, max_features=auto, min_samples_leaf=2, min_samples_split=10, n_estimators=41; total time=   0.4s\n",
      "[CV] END max_depth=137, max_features=auto, min_samples_leaf=2, min_samples_split=10, n_estimators=41; total time=   0.4s\n",
      "[CV] END max_depth=137, max_features=auto, min_samples_leaf=2, min_samples_split=10, n_estimators=41; total time=   0.4s\n",
      "[CV] END max_depth=137, max_features=auto, min_samples_leaf=2, min_samples_split=10, n_estimators=41; total time=   0.4s\n",
      "[CV] END max_depth=137, max_features=auto, min_samples_leaf=2, min_samples_split=10, n_estimators=41; total time=   0.4s\n",
      "[CV] END max_depth=668, max_features=auto, min_samples_leaf=5, min_samples_split=5, n_estimators=168; total time=   1.8s\n",
      "[CV] END max_depth=668, max_features=auto, min_samples_leaf=5, min_samples_split=5, n_estimators=168; total time=   1.8s\n",
      "[CV] END max_depth=668, max_features=auto, min_samples_leaf=5, min_samples_split=5, n_estimators=168; total time=   1.9s\n",
      "[CV] END max_depth=668, max_features=auto, min_samples_leaf=5, min_samples_split=5, n_estimators=168; total time=   1.9s\n",
      "[CV] END max_depth=668, max_features=auto, min_samples_leaf=5, min_samples_split=5, n_estimators=168; total time=   1.8s\n"
     ]
    },
    {
     "data": {
      "text/plain": [
       "RandomizedSearchCV(cv=5, estimator=RandomForestRegressor(), n_jobs=1,\n",
       "                   param_distributions={'max_depth': [5, 137, 270, 403, 536,\n",
       "                                                      668, 801, 934, 1067, 1200,\n",
       "                                                      None],\n",
       "                                        'max_features': ['auto', 'sqrt'],\n",
       "                                        'min_samples_leaf': [1, 2, 5, 10],\n",
       "                                        'min_samples_split': [2, 5, 10, 15,\n",
       "                                                              100],\n",
       "                                        'n_estimators': [10, 41, 73, 105, 136,\n",
       "                                                         168, 200]},\n",
       "                   random_state=42, scoring='neg_mean_squared_error',\n",
       "                   verbose=2)"
      ]
     },
     "execution_count": 46,
     "metadata": {},
     "output_type": "execute_result"
    }
   ],
   "source": [
    "rf_random.fit(X_train,y_train)\n"
   ]
  },
  {
   "cell_type": "code",
   "execution_count": 47,
   "id": "f7434218",
   "metadata": {},
   "outputs": [
    {
     "data": {
      "text/plain": [
       "{'n_estimators': 105,\n",
       " 'min_samples_split': 5,\n",
       " 'min_samples_leaf': 1,\n",
       " 'max_features': 'auto',\n",
       " 'max_depth': 536}"
      ]
     },
     "execution_count": 47,
     "metadata": {},
     "output_type": "execute_result"
    }
   ],
   "source": [
    "rf_random.best_params_"
   ]
  },
  {
   "cell_type": "code",
   "execution_count": 48,
   "id": "6064eb68",
   "metadata": {},
   "outputs": [],
   "source": [
    "predictions=rf_random.predict(X_test)"
   ]
  },
  {
   "cell_type": "code",
   "execution_count": 49,
   "id": "895275c0",
   "metadata": {},
   "outputs": [
    {
     "data": {
      "text/plain": [
       "0.9456260555351904"
      ]
     },
     "execution_count": 49,
     "metadata": {},
     "output_type": "execute_result"
    }
   ],
   "source": [
    "import sklearn.metrics as metrics\n",
    "metrics.r2_score(y_test,predictions)"
   ]
  },
  {
   "cell_type": "code",
   "execution_count": 50,
   "id": "0d703b79",
   "metadata": {},
   "outputs": [
    {
     "data": {
      "text/plain": [
       "RandomizedSearchCV(cv=5, estimator=RandomForestRegressor(), n_jobs=1,\n",
       "                   param_distributions={'max_depth': [5, 137, 270, 403, 536,\n",
       "                                                      668, 801, 934, 1067, 1200,\n",
       "                                                      None],\n",
       "                                        'max_features': ['auto', 'sqrt'],\n",
       "                                        'min_samples_leaf': [1, 2, 5, 10],\n",
       "                                        'min_samples_split': [2, 5, 10, 15,\n",
       "                                                              100],\n",
       "                                        'n_estimators': [10, 41, 73, 105, 136,\n",
       "                                                         168, 200]},\n",
       "                   random_state=42, scoring='neg_mean_squared_error',\n",
       "                   verbose=2)"
      ]
     },
     "execution_count": 50,
     "metadata": {},
     "output_type": "execute_result"
    }
   ],
   "source": [
    "rf_random"
   ]
  },
  {
   "cell_type": "code",
   "execution_count": 51,
   "id": "e08bca8e",
   "metadata": {},
   "outputs": [],
   "source": [
    "# sns.distplot(y_test-predictions)"
   ]
  },
  {
   "cell_type": "code",
   "execution_count": 52,
   "id": "920ae7d4",
   "metadata": {},
   "outputs": [],
   "source": [
    "# plt.scatter(y_test,predictions)"
   ]
  },
  {
   "cell_type": "code",
   "execution_count": 53,
   "id": "0f9845a6",
   "metadata": {},
   "outputs": [],
   "source": [
    "# from sklearn import metrics\n",
    "# print('MAE:', metrics.mean_absolute_error(y_test, predictions))\n",
    "# print('MSE:', metrics.mean_squared_error(y_test, predictions))\n",
    "# print('RMSE:', np.sqrt(metrics.mean_squared_error(y_test, predictions)))"
   ]
  },
  {
   "cell_type": "markdown",
   "id": "5484ba14",
   "metadata": {},
   "source": [
    "# Feature selection"
   ]
  },
  {
   "cell_type": "code",
   "execution_count": 57,
   "id": "768e0796",
   "metadata": {},
   "outputs": [],
   "source": []
  },
  {
   "cell_type": "code",
   "execution_count": 62,
   "id": "1e68628d",
   "metadata": {},
   "outputs": [],
   "source": [
    "# necessary imports:\n",
    "# from sklearn.feature_selection import SelectKBest\n",
    "from sklearn.feature_selection import chi2\n",
    "# Your Code Here(Uncomment best_features and write your code):\n",
    "best_features = SelectKBest(k='all')\n",
    "fit = best_features.fit(X,y) "
   ]
  },
  {
   "cell_type": "code",
   "execution_count": 63,
   "id": "94d440ac",
   "metadata": {},
   "outputs": [
    {
     "data": {
      "text/plain": [
       "SelectKBest()"
      ]
     },
     "execution_count": 63,
     "metadata": {},
     "output_type": "execute_result"
    }
   ],
   "source": [
    "SelectKBest()"
   ]
  },
  {
   "cell_type": "code",
   "execution_count": 64,
   "id": "7680b9eb",
   "metadata": {},
   "outputs": [
    {
     "data": {
      "text/html": [
       "<div>\n",
       "<style scoped>\n",
       "    .dataframe tbody tr th:only-of-type {\n",
       "        vertical-align: middle;\n",
       "    }\n",
       "\n",
       "    .dataframe tbody tr th {\n",
       "        vertical-align: top;\n",
       "    }\n",
       "\n",
       "    .dataframe thead th {\n",
       "        text-align: right;\n",
       "    }\n",
       "</style>\n",
       "<table border=\"1\" class=\"dataframe\">\n",
       "  <thead>\n",
       "    <tr style=\"text-align: right;\">\n",
       "      <th></th>\n",
       "      <th>X</th>\n",
       "      <th>price</th>\n",
       "    </tr>\n",
       "  </thead>\n",
       "  <tbody>\n",
       "    <tr>\n",
       "      <th>0</th>\n",
       "      <td>price</td>\n",
       "      <td>34.165711</td>\n",
       "    </tr>\n",
       "    <tr>\n",
       "      <th>1</th>\n",
       "      <td>kms_driven</td>\n",
       "      <td>82.134562</td>\n",
       "    </tr>\n",
       "    <tr>\n",
       "      <th>2</th>\n",
       "      <td>owner</td>\n",
       "      <td>223.252154</td>\n",
       "    </tr>\n",
       "    <tr>\n",
       "      <th>3</th>\n",
       "      <td>age</td>\n",
       "      <td>3.953788</td>\n",
       "    </tr>\n",
       "    <tr>\n",
       "      <th>4</th>\n",
       "      <td>power</td>\n",
       "      <td>36.566847</td>\n",
       "    </tr>\n",
       "  </tbody>\n",
       "</table>\n",
       "</div>"
      ],
      "text/plain": [
       "            X       price\n",
       "0       price   34.165711\n",
       "1  kms_driven   82.134562\n",
       "2       owner  223.252154\n",
       "3         age    3.953788\n",
       "4       power   36.566847"
      ]
     },
     "execution_count": 64,
     "metadata": {},
     "output_type": "execute_result"
    }
   ],
   "source": [
    "# Storing features and there score value in dataframes:\n",
    "dfscores = pd.DataFrame(fit.scores_)\n",
    "dfcoloumns = pd.DataFrame(df.columns)\n",
    "# Concat two dataframes for better visualization\n",
    "df_scores = pd.concat([dfcoloumns, dfscores], axis = 1)\n",
    "df_scores.columns = [\"X\", \"price\"] # naming the dataframe Coloumns\n",
    "# saving dataframe to csv\n",
    "name = \"feature_scores\"\n",
    "df_scores.to_csv(name)\n",
    "df_scores.head()"
   ]
  },
  {
   "cell_type": "code",
   "execution_count": 65,
   "id": "2db33c2d",
   "metadata": {},
   "outputs": [
    {
     "data": {
      "text/plain": [
       "ExtraTreesRegressor()"
      ]
     },
     "execution_count": 65,
     "metadata": {},
     "output_type": "execute_result"
    }
   ],
   "source": [
    "# Important feature using ExtraTreesRegressor\n",
    "from sklearn.ensemble import ExtraTreesRegressor  #To know about extraTreesRegressor library\n",
    "model = ExtraTreesRegressor()\n",
    "model.fit(X,y)"
   ]
  },
  {
   "cell_type": "code",
   "execution_count": 66,
   "id": "db225081",
   "metadata": {
    "collapsed": true
   },
   "outputs": [
    {
     "ename": "NameError",
     "evalue": "name 'feat_importances' is not defined",
     "output_type": "error",
     "traceback": [
      "\u001b[1;31m---------------------------------------------------------------------------\u001b[0m",
      "\u001b[1;31mNameError\u001b[0m                                 Traceback (most recent call last)",
      "\u001b[1;32m~\\AppData\\Local\\Temp/ipykernel_17556/324912806.py\u001b[0m in \u001b[0;36m<module>\u001b[1;34m\u001b[0m\n\u001b[1;32m----> 1\u001b[1;33m \u001b[0mprint\u001b[0m\u001b[1;33m(\u001b[0m\u001b[0mfeat_importances\u001b[0m\u001b[1;33m.\u001b[0m\u001b[0msort_values\u001b[0m\u001b[1;33m(\u001b[0m\u001b[0mascending\u001b[0m\u001b[1;33m=\u001b[0m\u001b[1;32mFalse\u001b[0m\u001b[1;33m)\u001b[0m\u001b[1;33m)\u001b[0m\u001b[1;33m\u001b[0m\u001b[1;33m\u001b[0m\u001b[0m\n\u001b[0m",
      "\u001b[1;31mNameError\u001b[0m: name 'feat_importances' is not defined"
     ]
    }
   ],
   "source": [
    "print(feat_importances.sort_values(ascending=False))"
   ]
  },
  {
   "cell_type": "code",
   "execution_count": 67,
   "id": "f8ffbce5",
   "metadata": {},
   "outputs": [
    {
     "data": {
      "image/png": "[encoded data removed]",
      "text/plain": [
       "<Figure size 864x432 with 1 Axes>"
      ]
     },
     "metadata": {
      "needs_background": "light"
     },
     "output_type": "display_data"
    }
   ],
   "source": [
    "# plot graph of feature importances for better visualization\n",
    "plt.figure(figsize=[12,6])\n",
    "feat_importances = pd.Series(model.feature_importances_, index=X.columns)\n",
    "feat_importances.nlargest(6).plot(kind='barh')\n",
    "plt.show()"
   ]
  },
  {
   "cell_type": "code",
   "execution_count": 68,
   "id": "20ebd1c4",
   "metadata": {},
   "outputs": [
    {
     "data": {
      "text/html": [
       "<div>\n",
       "<style scoped>\n",
       "    .dataframe tbody tr th:only-of-type {\n",
       "        vertical-align: middle;\n",
       "    }\n",
       "\n",
       "    .dataframe tbody tr th {\n",
       "        vertical-align: top;\n",
       "    }\n",
       "\n",
       "    .dataframe thead th {\n",
       "        text-align: right;\n",
       "    }\n",
       "</style>\n",
       "<table border=\"1\" class=\"dataframe\">\n",
       "  <thead>\n",
       "    <tr style=\"text-align: right;\">\n",
       "      <th></th>\n",
       "      <th>price</th>\n",
       "      <th>kms_driven</th>\n",
       "      <th>age</th>\n",
       "      <th>power</th>\n",
       "      <th>owner_Fourth Owner Or More</th>\n",
       "      <th>owner_Second Owner</th>\n",
       "      <th>owner_Third Owner</th>\n",
       "    </tr>\n",
       "  </thead>\n",
       "  <tbody>\n",
       "    <tr>\n",
       "      <th>0</th>\n",
       "      <td>35000</td>\n",
       "      <td>17654.0</td>\n",
       "      <td>3</td>\n",
       "      <td>110.0</td>\n",
       "      <td>0</td>\n",
       "      <td>0</td>\n",
       "      <td>0</td>\n",
       "    </tr>\n",
       "    <tr>\n",
       "      <th>1</th>\n",
       "      <td>119900</td>\n",
       "      <td>11000.0</td>\n",
       "      <td>4</td>\n",
       "      <td>350.0</td>\n",
       "      <td>0</td>\n",
       "      <td>0</td>\n",
       "      <td>0</td>\n",
       "    </tr>\n",
       "    <tr>\n",
       "      <th>2</th>\n",
       "      <td>600000</td>\n",
       "      <td>110.0</td>\n",
       "      <td>8</td>\n",
       "      <td>675.0</td>\n",
       "      <td>0</td>\n",
       "      <td>0</td>\n",
       "      <td>0</td>\n",
       "    </tr>\n",
       "    <tr>\n",
       "      <th>3</th>\n",
       "      <td>65000</td>\n",
       "      <td>16329.0</td>\n",
       "      <td>4</td>\n",
       "      <td>180.0</td>\n",
       "      <td>0</td>\n",
       "      <td>0</td>\n",
       "      <td>0</td>\n",
       "    </tr>\n",
       "    <tr>\n",
       "      <th>4</th>\n",
       "      <td>80000</td>\n",
       "      <td>10000.0</td>\n",
       "      <td>3</td>\n",
       "      <td>150.0</td>\n",
       "      <td>0</td>\n",
       "      <td>0</td>\n",
       "      <td>0</td>\n",
       "    </tr>\n",
       "  </tbody>\n",
       "</table>\n",
       "</div>"
      ],
      "text/plain": [
       "    price  kms_driven  age  power  owner_Fourth Owner Or More  \\\n",
       "0   35000     17654.0    3  110.0                           0   \n",
       "1  119900     11000.0    4  350.0                           0   \n",
       "2  600000       110.0    8  675.0                           0   \n",
       "3   65000     16329.0    4  180.0                           0   \n",
       "4   80000     10000.0    3  150.0                           0   \n",
       "\n",
       "   owner_Second Owner  owner_Third Owner  \n",
       "0                   0                  0  \n",
       "1                   0                  0  \n",
       "2                   0                  0  \n",
       "3                   0                  0  \n",
       "4                   0                  0  "
      ]
     },
     "execution_count": 68,
     "metadata": {},
     "output_type": "execute_result"
    }
   ],
   "source": [
    "clean_data.head()"
   ]
  },
  {
   "cell_type": "code",
   "execution_count": 69,
   "id": "6811e26a",
   "metadata": {},
   "outputs": [
    {
     "data": {
      "text/html": [
       "<div>\n",
       "<style scoped>\n",
       "    .dataframe tbody tr th:only-of-type {\n",
       "        vertical-align: middle;\n",
       "    }\n",
       "\n",
       "    .dataframe tbody tr th {\n",
       "        vertical-align: top;\n",
       "    }\n",
       "\n",
       "    .dataframe thead th {\n",
       "        text-align: right;\n",
       "    }\n",
       "</style>\n",
       "<table border=\"1\" class=\"dataframe\">\n",
       "  <thead>\n",
       "    <tr style=\"text-align: right;\">\n",
       "      <th></th>\n",
       "      <th>price</th>\n",
       "      <th>kms_driven</th>\n",
       "      <th>owner</th>\n",
       "      <th>age</th>\n",
       "      <th>power</th>\n",
       "    </tr>\n",
       "  </thead>\n",
       "  <tbody>\n",
       "    <tr>\n",
       "      <th>0</th>\n",
       "      <td>35000</td>\n",
       "      <td>17654.0</td>\n",
       "      <td>First Owner</td>\n",
       "      <td>3</td>\n",
       "      <td>110.0</td>\n",
       "    </tr>\n",
       "    <tr>\n",
       "      <th>1</th>\n",
       "      <td>119900</td>\n",
       "      <td>11000.0</td>\n",
       "      <td>First Owner</td>\n",
       "      <td>4</td>\n",
       "      <td>350.0</td>\n",
       "    </tr>\n",
       "    <tr>\n",
       "      <th>2</th>\n",
       "      <td>600000</td>\n",
       "      <td>110.0</td>\n",
       "      <td>First Owner</td>\n",
       "      <td>8</td>\n",
       "      <td>675.0</td>\n",
       "    </tr>\n",
       "    <tr>\n",
       "      <th>3</th>\n",
       "      <td>65000</td>\n",
       "      <td>16329.0</td>\n",
       "      <td>First Owner</td>\n",
       "      <td>4</td>\n",
       "      <td>180.0</td>\n",
       "    </tr>\n",
       "    <tr>\n",
       "      <th>4</th>\n",
       "      <td>80000</td>\n",
       "      <td>10000.0</td>\n",
       "      <td>First Owner</td>\n",
       "      <td>3</td>\n",
       "      <td>150.0</td>\n",
       "    </tr>\n",
       "    <tr>\n",
       "      <th>...</th>\n",
       "      <td>...</td>\n",
       "      <td>...</td>\n",
       "      <td>...</td>\n",
       "      <td>...</td>\n",
       "      <td>...</td>\n",
       "    </tr>\n",
       "    <tr>\n",
       "      <th>32641</th>\n",
       "      <td>41000</td>\n",
       "      <td>20245.0</td>\n",
       "      <td>Second Owner</td>\n",
       "      <td>11</td>\n",
       "      <td>220.0</td>\n",
       "    </tr>\n",
       "    <tr>\n",
       "      <th>32642</th>\n",
       "      <td>15000</td>\n",
       "      <td>35000.0</td>\n",
       "      <td>Second Owner</td>\n",
       "      <td>19</td>\n",
       "      <td>100.0</td>\n",
       "    </tr>\n",
       "    <tr>\n",
       "      <th>32643</th>\n",
       "      <td>39000</td>\n",
       "      <td>22000.0</td>\n",
       "      <td>First Owner</td>\n",
       "      <td>4</td>\n",
       "      <td>100.0</td>\n",
       "    </tr>\n",
       "    <tr>\n",
       "      <th>32645</th>\n",
       "      <td>60000</td>\n",
       "      <td>20373.0</td>\n",
       "      <td>First Owner</td>\n",
       "      <td>6</td>\n",
       "      <td>220.0</td>\n",
       "    </tr>\n",
       "    <tr>\n",
       "      <th>32647</th>\n",
       "      <td>22000</td>\n",
       "      <td>60857.0</td>\n",
       "      <td>First Owner</td>\n",
       "      <td>13</td>\n",
       "      <td>150.0</td>\n",
       "    </tr>\n",
       "  </tbody>\n",
       "</table>\n",
       "<p>32645 rows × 5 columns</p>\n",
       "</div>"
      ],
      "text/plain": [
       "        price  kms_driven         owner  age  power\n",
       "0       35000     17654.0   First Owner    3  110.0\n",
       "1      119900     11000.0   First Owner    4  350.0\n",
       "2      600000       110.0   First Owner    8  675.0\n",
       "3       65000     16329.0   First Owner    4  180.0\n",
       "4       80000     10000.0   First Owner    3  150.0\n",
       "...       ...         ...           ...  ...    ...\n",
       "32641   41000     20245.0  Second Owner   11  220.0\n",
       "32642   15000     35000.0  Second Owner   19  100.0\n",
       "32643   39000     22000.0   First Owner    4  100.0\n",
       "32645   60000     20373.0   First Owner    6  220.0\n",
       "32647   22000     60857.0   First Owner   13  150.0\n",
       "\n",
       "[32645 rows x 5 columns]"
      ]
     },
     "execution_count": 69,
     "metadata": {},
     "output_type": "execute_result"
    }
   ],
   "source": [
    "df"
   ]
  },
  {
   "cell_type": "code",
   "execution_count": 70,
   "id": "bd73179f",
   "metadata": {},
   "outputs": [],
   "source": [
    "# Selecting useful features.\n",
    "final_df =df[['price', 'age',\n",
    "       'power','owner']]"
   ]
  },
  {
   "cell_type": "code",
   "execution_count": 71,
   "id": "ca0cb95f",
   "metadata": {},
   "outputs": [
    {
     "data": {
      "text/html": [
       "<div>\n",
       "<style scoped>\n",
       "    .dataframe tbody tr th:only-of-type {\n",
       "        vertical-align: middle;\n",
       "    }\n",
       "\n",
       "    .dataframe tbody tr th {\n",
       "        vertical-align: top;\n",
       "    }\n",
       "\n",
       "    .dataframe thead th {\n",
       "        text-align: right;\n",
       "    }\n",
       "</style>\n",
       "<table border=\"1\" class=\"dataframe\">\n",
       "  <thead>\n",
       "    <tr style=\"text-align: right;\">\n",
       "      <th></th>\n",
       "      <th>price</th>\n",
       "      <th>price</th>\n",
       "      <th>age</th>\n",
       "      <th>power</th>\n",
       "      <th>owner</th>\n",
       "    </tr>\n",
       "  </thead>\n",
       "  <tbody>\n",
       "    <tr>\n",
       "      <th>0</th>\n",
       "      <td>35000</td>\n",
       "      <td>35000</td>\n",
       "      <td>3</td>\n",
       "      <td>110.0</td>\n",
       "      <td>First Owner</td>\n",
       "    </tr>\n",
       "    <tr>\n",
       "      <th>1</th>\n",
       "      <td>119900</td>\n",
       "      <td>119900</td>\n",
       "      <td>4</td>\n",
       "      <td>350.0</td>\n",
       "      <td>First Owner</td>\n",
       "    </tr>\n",
       "    <tr>\n",
       "      <th>2</th>\n",
       "      <td>600000</td>\n",
       "      <td>600000</td>\n",
       "      <td>8</td>\n",
       "      <td>675.0</td>\n",
       "      <td>First Owner</td>\n",
       "    </tr>\n",
       "    <tr>\n",
       "      <th>3</th>\n",
       "      <td>65000</td>\n",
       "      <td>65000</td>\n",
       "      <td>4</td>\n",
       "      <td>180.0</td>\n",
       "      <td>First Owner</td>\n",
       "    </tr>\n",
       "    <tr>\n",
       "      <th>4</th>\n",
       "      <td>80000</td>\n",
       "      <td>80000</td>\n",
       "      <td>3</td>\n",
       "      <td>150.0</td>\n",
       "      <td>First Owner</td>\n",
       "    </tr>\n",
       "    <tr>\n",
       "      <th>...</th>\n",
       "      <td>...</td>\n",
       "      <td>...</td>\n",
       "      <td>...</td>\n",
       "      <td>...</td>\n",
       "      <td>...</td>\n",
       "    </tr>\n",
       "    <tr>\n",
       "      <th>32641</th>\n",
       "      <td>41000</td>\n",
       "      <td>41000</td>\n",
       "      <td>11</td>\n",
       "      <td>220.0</td>\n",
       "      <td>Second Owner</td>\n",
       "    </tr>\n",
       "    <tr>\n",
       "      <th>32642</th>\n",
       "      <td>15000</td>\n",
       "      <td>15000</td>\n",
       "      <td>19</td>\n",
       "      <td>100.0</td>\n",
       "      <td>Second Owner</td>\n",
       "    </tr>\n",
       "    <tr>\n",
       "      <th>32643</th>\n",
       "      <td>39000</td>\n",
       "      <td>39000</td>\n",
       "      <td>4</td>\n",
       "      <td>100.0</td>\n",
       "      <td>First Owner</td>\n",
       "    </tr>\n",
       "    <tr>\n",
       "      <th>32645</th>\n",
       "      <td>60000</td>\n",
       "      <td>60000</td>\n",
       "      <td>6</td>\n",
       "      <td>220.0</td>\n",
       "      <td>First Owner</td>\n",
       "    </tr>\n",
       "    <tr>\n",
       "      <th>32647</th>\n",
       "      <td>22000</td>\n",
       "      <td>22000</td>\n",
       "      <td>13</td>\n",
       "      <td>150.0</td>\n",
       "      <td>First Owner</td>\n",
       "    </tr>\n",
       "  </tbody>\n",
       "</table>\n",
       "<p>32645 rows × 5 columns</p>\n",
       "</div>"
      ],
      "text/plain": [
       "        price   price  age  power         owner\n",
       "0       35000   35000    3  110.0   First Owner\n",
       "1      119900  119900    4  350.0   First Owner\n",
       "2      600000  600000    8  675.0   First Owner\n",
       "3       65000   65000    4  180.0   First Owner\n",
       "4       80000   80000    3  150.0   First Owner\n",
       "...       ...     ...  ...    ...           ...\n",
       "32641   41000   41000   11  220.0  Second Owner\n",
       "32642   15000   15000   19  100.0  Second Owner\n",
       "32643   39000   39000    4  100.0   First Owner\n",
       "32645   60000   60000    6  220.0   First Owner\n",
       "32647   22000   22000   13  150.0   First Owner\n",
       "\n",
       "[32645 rows x 5 columns]"
      ]
     },
     "execution_count": 71,
     "metadata": {},
     "output_type": "execute_result"
    }
   ],
   "source": [
    "final_df"
   ]
  },
  {
   "cell_type": "markdown",
   "id": "c18d2f57",
   "metadata": {},
   "source": [
    "# Categorical Features\n"
   ]
  },
  {
   "cell_type": "code",
   "execution_count": 72,
   "id": "e60e8b16",
   "metadata": {},
   "outputs": [],
   "source": [
    "#Creating Dummie Variables\n",
    "data_with_dummies = pd.get_dummies(final_df,drop_first=True)"
   ]
  },
  {
   "cell_type": "code",
   "execution_count": 73,
   "id": "5e898969",
   "metadata": {},
   "outputs": [
    {
     "data": {
      "text/html": [
       "<div>\n",
       "<style scoped>\n",
       "    .dataframe tbody tr th:only-of-type {\n",
       "        vertical-align: middle;\n",
       "    }\n",
       "\n",
       "    .dataframe tbody tr th {\n",
       "        vertical-align: top;\n",
       "    }\n",
       "\n",
       "    .dataframe thead th {\n",
       "        text-align: right;\n",
       "    }\n",
       "</style>\n",
       "<table border=\"1\" class=\"dataframe\">\n",
       "  <thead>\n",
       "    <tr style=\"text-align: right;\">\n",
       "      <th></th>\n",
       "      <th>price</th>\n",
       "      <th>price</th>\n",
       "      <th>age</th>\n",
       "      <th>power</th>\n",
       "      <th>owner_Fourth Owner Or More</th>\n",
       "      <th>owner_Second Owner</th>\n",
       "      <th>owner_Third Owner</th>\n",
       "    </tr>\n",
       "  </thead>\n",
       "  <tbody>\n",
       "    <tr>\n",
       "      <th>0</th>\n",
       "      <td>35000</td>\n",
       "      <td>35000</td>\n",
       "      <td>3</td>\n",
       "      <td>110.0</td>\n",
       "      <td>0</td>\n",
       "      <td>0</td>\n",
       "      <td>0</td>\n",
       "    </tr>\n",
       "    <tr>\n",
       "      <th>1</th>\n",
       "      <td>119900</td>\n",
       "      <td>119900</td>\n",
       "      <td>4</td>\n",
       "      <td>350.0</td>\n",
       "      <td>0</td>\n",
       "      <td>0</td>\n",
       "      <td>0</td>\n",
       "    </tr>\n",
       "    <tr>\n",
       "      <th>2</th>\n",
       "      <td>600000</td>\n",
       "      <td>600000</td>\n",
       "      <td>8</td>\n",
       "      <td>675.0</td>\n",
       "      <td>0</td>\n",
       "      <td>0</td>\n",
       "      <td>0</td>\n",
       "    </tr>\n",
       "    <tr>\n",
       "      <th>3</th>\n",
       "      <td>65000</td>\n",
       "      <td>65000</td>\n",
       "      <td>4</td>\n",
       "      <td>180.0</td>\n",
       "      <td>0</td>\n",
       "      <td>0</td>\n",
       "      <td>0</td>\n",
       "    </tr>\n",
       "    <tr>\n",
       "      <th>4</th>\n",
       "      <td>80000</td>\n",
       "      <td>80000</td>\n",
       "      <td>3</td>\n",
       "      <td>150.0</td>\n",
       "      <td>0</td>\n",
       "      <td>0</td>\n",
       "      <td>0</td>\n",
       "    </tr>\n",
       "  </tbody>\n",
       "</table>\n",
       "</div>"
      ],
      "text/plain": [
       "    price   price  age  power  owner_Fourth Owner Or More  owner_Second Owner  \\\n",
       "0   35000   35000    3  110.0                           0                   0   \n",
       "1  119900  119900    4  350.0                           0                   0   \n",
       "2  600000  600000    8  675.0                           0                   0   \n",
       "3   65000   65000    4  180.0                           0                   0   \n",
       "4   80000   80000    3  150.0                           0                   0   \n",
       "\n",
       "   owner_Third Owner  \n",
       "0                  0  \n",
       "1                  0  \n",
       "2                  0  \n",
       "3                  0  \n",
       "4                  0  "
      ]
     },
     "execution_count": 73,
     "metadata": {},
     "output_type": "execute_result"
    }
   ],
   "source": [
    "data_with_dummies.head()\n"
   ]
  },
  {
   "cell_type": "markdown",
   "id": "3d487922",
   "metadata": {},
   "source": [
    "# Again declaring the model"
   ]
  },
  {
   "cell_type": "code",
   "execution_count": 74,
   "id": "bcd9dabe",
   "metadata": {},
   "outputs": [],
   "source": [
    "x = data_with_dummies.drop('price',axis=1)\n",
    "y = data_with_dummies['price']"
   ]
  },
  {
   "cell_type": "code",
   "execution_count": 75,
   "id": "ce78ea7f",
   "metadata": {},
   "outputs": [],
   "source": [
    "from sklearn.ensemble import RandomForestRegressor\n",
    "rf = RandomForestRegressor()"
   ]
  },
  {
   "cell_type": "code",
   "execution_count": 76,
   "id": "6e6caead",
   "metadata": {},
   "outputs": [],
   "source": [
    "from sklearn.model_selection import train_test_split\n",
    "x_train, x_test, y_train, y_test = train_test_split(x,y,test_size=0.2, random_state=365)"
   ]
  },
  {
   "cell_type": "code",
   "execution_count": 77,
   "id": "b7a89639",
   "metadata": {},
   "outputs": [],
   "source": [
    "# Model Building\n",
    "from sklearn.linear_model import LinearRegression\n",
    "lr = LinearRegression()\n"
   ]
  },
  {
   "cell_type": "code",
   "execution_count": 78,
   "id": "5987d4f5",
   "metadata": {},
   "outputs": [
    {
     "data": {
      "text/plain": [
       "LinearRegression()"
      ]
     },
     "execution_count": 78,
     "metadata": {},
     "output_type": "execute_result"
    }
   ],
   "source": [
    "\n",
    "# Training Model\n",
    "lr.fit(x_train,y_train)"
   ]
  },
  {
   "cell_type": "code",
   "execution_count": 79,
   "id": "d751fd13",
   "metadata": {},
   "outputs": [
    {
     "data": {
      "text/plain": [
       "0.7527456335959296"
      ]
     },
     "execution_count": 79,
     "metadata": {},
     "output_type": "execute_result"
    }
   ],
   "source": [
    "lr.score(x_test,y_test)"
   ]
  },
  {
   "cell_type": "code",
   "execution_count": 80,
   "id": "70b964cc",
   "metadata": {},
   "outputs": [
    {
     "name": "stdout",
     "output_type": "stream",
     "text": [
      "R_squared : 0.9398062487638331\n"
     ]
    }
   ],
   "source": [
    "from sklearn.ensemble import RandomForestRegressor\n",
    "rf = RandomForestRegressor()\n",
    "\n",
    "# Training Model\n",
    "rf.fit(x_train,y_train)\n",
    "\n",
    "# Model Summary\n",
    "y_pred_rf = rf.predict(x_test)\n",
    "\n",
    "r_squared = r2_score(y_test,y_pred_rf)\n",
    "rmse = np.sqrt(mean_squared_error(y_test,y_pred_rf))\n",
    "print(\"R_squared :\",r_squared)"
   ]
  },
  {
   "cell_type": "code",
   "execution_count": 81,
   "id": "a6af4ed1",
   "metadata": {},
   "outputs": [
    {
     "data": {
      "text/plain": [
       "0.9398062487638331"
      ]
     },
     "execution_count": 81,
     "metadata": {},
     "output_type": "execute_result"
    }
   ],
   "source": [
    "rf.score(x_test,y_test)"
   ]
  },
  {
   "cell_type": "markdown",
   "id": "96b5ea19",
   "metadata": {},
   "source": [
    "# Conclusion"
   ]
  },
  {
   "cell_type": "markdown",
   "id": "015f6d44",
   "metadata": {},
   "source": [
    "From the given model i came an conclusion that both MOdel has increased when hypertuining has done.when i had build a primary model the accuecy is 0.87 using linear regresion and in using the random forest accuracy is 0.90\n",
    "\n",
    "when doing feature selection the hyperparameter tuinig has the less accuracy    \n",
    "\n",
    "there seems the different accuracy between linear regression and decision tree\n",
    "\n",
    "Price of bike with brand type is higher\n",
    "price of bike with power types is lower\n"
   ]
  },
  {
   "cell_type": "code",
   "execution_count": null,
   "id": "8b6fe9c3",
   "metadata": {},
   "outputs": [],
   "source": []
  }
 ],
 "metadata": {
  "kernelspec": {
   "display_name": "Python 3 (ipykernel)",
   "language": "python",
   "name": "python3"
  },
  "language_info": {
   "codemirror_mode": {
    "name": "ipython",
    "version": 3
   },
   "file_extension": ".py",
   "mimetype": "text/x-python",
   "name": "python",
   "nbconvert_exporter": "python",
   "pygments_lexer": "ipython3",
   "version": "3.9.7"
  }
 },
 "nbformat": 4,
 "nbformat_minor": 5
}
